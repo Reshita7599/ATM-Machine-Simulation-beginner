{
 "cells": [
  {
   "cell_type": "code",
   "execution_count": 1,
   "id": "6fa89d5f-4712-46d7-a5c8-7fb15a0782f3",
   "metadata": {},
   "outputs": [
    {
     "name": "stdout",
     "output_type": "stream",
     "text": [
      "\n",
      "ATM Menu:\n",
      "1. Check Balance\n",
      "2. Withdraw\n",
      "3. Deposit\n",
      "4. Change PIN\n",
      "5. Transaction History\n",
      "6. Exit\n"
     ]
    },
    {
     "name": "stdin",
     "output_type": "stream",
     "text": [
      "Enter your choice:  4\n",
      "Enter old PIN:  1234\n",
      "Enter new PIN:  2356\n"
     ]
    },
    {
     "name": "stdout",
     "output_type": "stream",
     "text": [
      "PIN changed successfully\n",
      "\n",
      "ATM Menu:\n",
      "1. Check Balance\n",
      "2. Withdraw\n",
      "3. Deposit\n",
      "4. Change PIN\n",
      "5. Transaction History\n",
      "6. Exit\n"
     ]
    },
    {
     "name": "stdin",
     "output_type": "stream",
     "text": [
      "Enter your choice:  1\n",
      "Enter PIN:  2356\n"
     ]
    },
    {
     "name": "stdout",
     "output_type": "stream",
     "text": [
      "Balance: $1000\n",
      "\n",
      "ATM Menu:\n",
      "1. Check Balance\n",
      "2. Withdraw\n",
      "3. Deposit\n",
      "4. Change PIN\n",
      "5. Transaction History\n",
      "6. Exit\n"
     ]
    },
    {
     "name": "stdin",
     "output_type": "stream",
     "text": [
      "Enter your choice:  3\n",
      "Enter PIN:  2356\n",
      "Enter deposit amount:  56789\n"
     ]
    },
    {
     "name": "stdout",
     "output_type": "stream",
     "text": [
      "Deposit successful. New balance: $57789.0\n",
      "\n",
      "ATM Menu:\n",
      "1. Check Balance\n",
      "2. Withdraw\n",
      "3. Deposit\n",
      "4. Change PIN\n",
      "5. Transaction History\n",
      "6. Exit\n"
     ]
    },
    {
     "name": "stdin",
     "output_type": "stream",
     "text": [
      "Enter your choice:  2\n",
      "Enter PIN:  456\n"
     ]
    },
    {
     "name": "stdout",
     "output_type": "stream",
     "text": [
      "Invalid PIN\n",
      "\n",
      "ATM Menu:\n",
      "1. Check Balance\n",
      "2. Withdraw\n",
      "3. Deposit\n",
      "4. Change PIN\n",
      "5. Transaction History\n",
      "6. Exit\n"
     ]
    },
    {
     "name": "stdin",
     "output_type": "stream",
     "text": [
      "Enter your choice:  3\n",
      "Enter PIN:  2356\n",
      "Enter deposit amount:  45\n"
     ]
    },
    {
     "name": "stdout",
     "output_type": "stream",
     "text": [
      "Deposit successful. New balance: $57834.0\n",
      "\n",
      "ATM Menu:\n",
      "1. Check Balance\n",
      "2. Withdraw\n",
      "3. Deposit\n",
      "4. Change PIN\n",
      "5. Transaction History\n",
      "6. Exit\n"
     ]
    },
    {
     "name": "stdin",
     "output_type": "stream",
     "text": [
      "Enter your choice:  2\n",
      "Enter PIN:  2356\n",
      "Enter withdrawal amount:  456\n"
     ]
    },
    {
     "name": "stdout",
     "output_type": "stream",
     "text": [
      "Withdrawal successful. New balance: $57378.0\n",
      "\n",
      "ATM Menu:\n",
      "1. Check Balance\n",
      "2. Withdraw\n",
      "3. Deposit\n",
      "4. Change PIN\n",
      "5. Transaction History\n",
      "6. Exit\n"
     ]
    },
    {
     "name": "stdin",
     "output_type": "stream",
     "text": [
      "Enter your choice:  5\n",
      "Enter PIN:  2356\n"
     ]
    },
    {
     "name": "stdout",
     "output_type": "stream",
     "text": [
      "\n",
      "Transaction History:\n",
      "Deposit: +$56789.0\n",
      "Deposit: +$45.0\n",
      "Withdrawal: -$456.0\n",
      "\n",
      "ATM Menu:\n",
      "1. Check Balance\n",
      "2. Withdraw\n",
      "3. Deposit\n",
      "4. Change PIN\n",
      "5. Transaction History\n",
      "6. Exit\n"
     ]
    },
    {
     "name": "stdin",
     "output_type": "stream",
     "text": [
      "Enter your choice:  1\n",
      "Enter PIN:  2356\n"
     ]
    },
    {
     "name": "stdout",
     "output_type": "stream",
     "text": [
      "Balance: $57378.0\n",
      "\n",
      "ATM Menu:\n",
      "1. Check Balance\n",
      "2. Withdraw\n",
      "3. Deposit\n",
      "4. Change PIN\n",
      "5. Transaction History\n",
      "6. Exit\n"
     ]
    },
    {
     "name": "stdin",
     "output_type": "stream",
     "text": [
      "Enter your choice:  6\n"
     ]
    }
   ],
   "source": [
    "class ATM:\n",
    "    def __init__(self, account_number, pin, balance=0):\n",
    "        self.account_number = account_number\n",
    "        self.pin = pin\n",
    "        self.balance = balance\n",
    "        self.transaction_history = []\n",
    "\n",
    "    def authenticate(self, pin):\n",
    "        \"\"\"Verify the PIN\"\"\"\n",
    "        return self.pin == pin\n",
    "\n",
    "    def check_balance(self):\n",
    "        \"\"\"Display the current balance\"\"\"\n",
    "        return self.balance\n",
    "\n",
    "    def withdraw(self, amount):\n",
    "        \"\"\"Withdraw cash\"\"\"\n",
    "        if amount > self.balance:\n",
    "            return \"Insufficient funds\"\n",
    "        self.balance -= amount\n",
    "        self.transaction_history.append(f\"Withdrawal: -${amount}\")\n",
    "        return f\"Withdrawal successful. New balance: ${self.balance}\"\n",
    "\n",
    "    def deposit(self, amount):\n",
    "        \"\"\"Deposit cash\"\"\"\n",
    "        self.balance += amount\n",
    "        self.transaction_history.append(f\"Deposit: +${amount}\")\n",
    "        return f\"Deposit successful. New balance: ${self.balance}\"\n",
    "\n",
    "    def change_pin(self, old_pin, new_pin):\n",
    "        \"\"\"Change the PIN\"\"\"\n",
    "        if self.authenticate(old_pin):\n",
    "            self.pin = new_pin\n",
    "            return \"PIN changed successfully\"\n",
    "        return \"Invalid old PIN\"\n",
    "\n",
    "    def transaction_history(self):\n",
    "        \"\"\"Display transaction history\"\"\"\n",
    "        return self.transaction_history\n",
    "\n",
    "def main():\n",
    "    # Initialize ATM with account number, PIN, and balance\n",
    "    atm = ATM(\"123456789\", 1234, 1000)\n",
    "\n",
    "    while True:\n",
    "        print(\"\\nATM Menu:\")\n",
    "        print(\"1. Check Balance\")\n",
    "        print(\"2. Withdraw\")\n",
    "        print(\"3. Deposit\")\n",
    "        print(\"4. Change PIN\")\n",
    "        print(\"5. Transaction History\")\n",
    "        print(\"6. Exit\")\n",
    "\n",
    "        choice = input(\"Enter your choice: \")\n",
    "\n",
    "        if choice == \"1\":\n",
    "            pin = int(input(\"Enter PIN: \"))\n",
    "            if atm.authenticate(pin):\n",
    "                print(f\"Balance: ${atm.check_balance()}\")\n",
    "            else:\n",
    "                print(\"Invalid PIN\")\n",
    "        elif choice == \"2\":\n",
    "            pin = int(input(\"Enter PIN: \"))\n",
    "            if atm.authenticate(pin):\n",
    "                amount = float(input(\"Enter withdrawal amount: \"))\n",
    "                print(atm.withdraw(amount))\n",
    "            else:\n",
    "                print(\"Invalid PIN\")\n",
    "        elif choice == \"3\":\n",
    "            pin = int(input(\"Enter PIN: \"))\n",
    "            if atm.authenticate(pin):\n",
    "                amount = float(input(\"Enter deposit amount: \"))\n",
    "                print(atm.deposit(amount))\n",
    "            else:\n",
    "                print(\"Invalid PIN\")\n",
    "        elif choice == \"4\":\n",
    "            pin = int(input(\"Enter old PIN: \"))\n",
    "            new_pin = int(input(\"Enter new PIN: \"))\n",
    "            print(atm.change_pin(pin, new_pin))\n",
    "        elif choice == \"5\":\n",
    "            pin = int(input(\"Enter PIN: \"))\n",
    "            if atm.authenticate(pin):\n",
    "                print(\"\\nTransaction History:\")\n",
    "                for transaction in atm.transaction_history:\n",
    "                    print(transaction)\n",
    "            else:\n",
    "                print(\"Invalid PIN\")\n",
    "        elif choice == \"6\":\n",
    "            break\n",
    "        else:\n",
    "            print(\"Invalid choice. Please try again.\")\n",
    "\n",
    "if __name__ == \"__main__\":\n",
    "    main()"
   ]
  },
  {
   "cell_type": "code",
   "execution_count": null,
   "id": "1480c349-f116-41a0-9e43-2a7005cde77b",
   "metadata": {},
   "outputs": [],
   "source": []
  }
 ],
 "metadata": {
  "kernelspec": {
   "display_name": "Python 3 (ipykernel)",
   "language": "python",
   "name": "python3"
  },
  "language_info": {
   "codemirror_mode": {
    "name": "ipython",
    "version": 3
   },
   "file_extension": ".py",
   "mimetype": "text/x-python",
   "name": "python",
   "nbconvert_exporter": "python",
   "pygments_lexer": "ipython3",
   "version": "3.12.4"
  }
 },
 "nbformat": 4,
 "nbformat_minor": 5
}
